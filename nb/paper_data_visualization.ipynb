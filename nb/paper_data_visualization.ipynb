{
 "cells": [
  {
   "cell_type": "markdown",
   "id": "99bc7784",
   "metadata": {},
   "source": [
    "# Paper Data Visualization\n",
    "\n",
    "This notebook helps you explore and visualize the collected paper data from the database. Follow the sections below to load, inspect, and visualize the paper information."
   ]
  },
  {
   "cell_type": "code",
   "execution_count": 1,
   "id": "bf324c3d",
   "metadata": {},
   "outputs": [
    {
     "ename": "ModuleNotFoundError",
     "evalue": "No module named 'matplotlib'",
     "output_type": "error",
     "traceback": [
      "\u001b[31m---------------------------------------------------------------------------\u001b[39m",
      "\u001b[31mModuleNotFoundError\u001b[39m                       Traceback (most recent call last)",
      "\u001b[36mCell\u001b[39m\u001b[36m \u001b[39m\u001b[32mIn[1]\u001b[39m\u001b[32m, line 3\u001b[39m\n\u001b[32m      1\u001b[39m \u001b[38;5;66;03m# Import Required Libraries\u001b[39;00m\n\u001b[32m      2\u001b[39m \u001b[38;5;28;01mimport\u001b[39;00m\u001b[38;5;250m \u001b[39m\u001b[34;01mpandas\u001b[39;00m\u001b[38;5;250m \u001b[39m\u001b[38;5;28;01mas\u001b[39;00m\u001b[38;5;250m \u001b[39m\u001b[34;01mpd\u001b[39;00m\n\u001b[32m----> \u001b[39m\u001b[32m3\u001b[39m \u001b[38;5;28;01mimport\u001b[39;00m\u001b[38;5;250m \u001b[39m\u001b[34;01mmatplotlib\u001b[39;00m\u001b[34;01m.\u001b[39;00m\u001b[34;01mpyplot\u001b[39;00m\u001b[38;5;250m \u001b[39m\u001b[38;5;28;01mas\u001b[39;00m\u001b[38;5;250m \u001b[39m\u001b[34;01mplt\u001b[39;00m\n\u001b[32m      4\u001b[39m \u001b[38;5;28;01mimport\u001b[39;00m\u001b[38;5;250m \u001b[39m\u001b[34;01mseaborn\u001b[39;00m\u001b[38;5;250m \u001b[39m\u001b[38;5;28;01mas\u001b[39;00m\u001b[38;5;250m \u001b[39m\u001b[34;01msns\u001b[39;00m\n\u001b[32m      5\u001b[39m \u001b[38;5;28;01mfrom\u001b[39;00m\u001b[38;5;250m \u001b[39m\u001b[34;01mwordcloud\u001b[39;00m\u001b[38;5;250m \u001b[39m\u001b[38;5;28;01mimport\u001b[39;00m WordCloud\n",
      "\u001b[31mModuleNotFoundError\u001b[39m: No module named 'matplotlib'"
     ]
    }
   ],
   "source": [
    "# Import Required Libraries\n",
    "import pandas as pd\n",
    "import matplotlib.pyplot as plt\n",
    "import seaborn as sns\n",
    "from wordcloud import WordCloud\n",
    "import sqlite3"
   ]
  },
  {
   "cell_type": "markdown",
   "id": "0f1e094f",
   "metadata": {},
   "source": [
    "## Load Paper Data\n",
    "\n",
    "Connect to the SQLite database and load the paper data into a pandas DataFrame."
   ]
  },
  {
   "cell_type": "code",
   "execution_count": null,
   "id": "f281182d",
   "metadata": {},
   "outputs": [],
   "source": [
    "# Connect to the SQLite database and load paper data\n",
    "db_path = '../papers.db'\n",
    "conn = sqlite3.connect(db_path)\n",
    "\n",
    "# List tables to help user know what is available\n",
    "query_tables = \"SELECT name FROM sqlite_master WHERE type='table';\"\n",
    "tables = pd.read_sql(query_tables, conn)\n",
    "tables"
   ]
  },
  {
   "cell_type": "code",
   "execution_count": null,
   "id": "29d9b8a9",
   "metadata": {},
   "outputs": [],
   "source": [
    "# Example: Load the main paper table (replace 'papers' with your actual table name)\n",
    "paper_table = 'papers'  # Change this if your table has a different name\n",
    "try:\n",
    "    papers_df = pd.read_sql(f'SELECT * FROM {paper_table}', conn)\n",
    "except Exception as e:\n",
    "    papers_df = None\n",
    "    print(f\"Error loading table: {e}\")\n",
    "papers_df.head() if papers_df is not None else None"
   ]
  },
  {
   "cell_type": "markdown",
   "id": "ffa50c4a",
   "metadata": {},
   "source": [
    "## Display Basic Paper Information\n",
    "\n",
    "Preview the first few rows and show basic statistics about the paper data."
   ]
  },
  {
   "cell_type": "code",
   "execution_count": null,
   "id": "9637fac2",
   "metadata": {},
   "outputs": [],
   "source": [
    "# Show info and basic statistics\n",
    "if papers_df is not None:\n",
    "    display(papers_df.head())\n",
    "    display(papers_df.describe(include='all'))\n",
    "    print(f\"Total papers: {len(papers_df)}\")\n",
    "else:\n",
    "    print(\"No paper data loaded.\")"
   ]
  },
  {
   "cell_type": "markdown",
   "id": "2683eadf",
   "metadata": {},
   "source": [
    "## Visualize Paper Publication Years\n",
    "\n",
    "Create a histogram or bar plot to visualize the distribution of publication years among the papers."
   ]
  },
  {
   "cell_type": "code",
   "execution_count": null,
   "id": "61d79d04",
   "metadata": {},
   "outputs": [],
   "source": [
    "# Plot publication year distribution (replace 'year' with your actual column name)\n",
    "if papers_df is not None and 'year' in papers_df.columns:\n",
    "    plt.figure(figsize=(10, 5))\n",
    "    sns.histplot(papers_df['year'].dropna(), bins=20, kde=False)\n",
    "    plt.title('Distribution of Publication Years')\n",
    "    plt.xlabel('Year')\n",
    "    plt.ylabel('Number of Papers')\n",
    "    plt.show()\n",
    "else:\n",
    "    print(\"Column 'year' not found in data.\")"
   ]
  },
  {
   "cell_type": "markdown",
   "id": "c7edae20",
   "metadata": {},
   "source": [
    "## Visualize Paper Authors\n",
    "\n",
    "Generate a bar chart or word cloud to show the most frequent authors in the dataset."
   ]
  },
  {
   "cell_type": "code",
   "execution_count": null,
   "id": "85c86481",
   "metadata": {},
   "outputs": [],
   "source": [
    "# Visualize most frequent authors (replace 'authors' with your actual column name)\n",
    "if papers_df is not None and 'authors' in papers_df.columns:\n",
    "    from collections import Counter\n",
    "    author_list = papers_df['authors'].dropna().str.split(';|,').explode().str.strip()\n",
    "    top_authors = author_list.value_counts().head(20)\n",
    "    plt.figure(figsize=(10, 6))\n",
    "    sns.barplot(y=top_authors.index, x=top_authors.values, orient='h')\n",
    "    plt.title('Top 20 Most Frequent Authors')\n",
    "    plt.xlabel('Number of Papers')\n",
    "    plt.ylabel('Author')\n",
    "    plt.show()\n",
    "    # Word cloud\n",
    "    text = ' '.join(author_list.dropna())\n",
    "    wordcloud = WordCloud(width=800, height=400, background_color='white').generate(text)\n",
    "    plt.figure(figsize=(12, 6))\n",
    "    plt.imshow(wordcloud, interpolation='bilinear')\n",
    "    plt.axis('off')\n",
    "    plt.title('Author Word Cloud')\n",
    "    plt.show()\n",
    "else:\n",
    "    print(\"Column 'authors' not found in data.\")"
   ]
  },
  {
   "cell_type": "markdown",
   "id": "8b0f886c",
   "metadata": {},
   "source": [
    "## Visualize Paper Keywords or Topics\n",
    "\n",
    "Create visualizations (such as bar plots or word clouds) for the most common keywords or topics in the papers."
   ]
  },
  {
   "cell_type": "code",
   "execution_count": null,
   "id": "fca4e146",
   "metadata": {},
   "outputs": [],
   "source": [
    "# Visualize most common keywords/topics (replace 'keywords' with your actual column name)\n",
    "if papers_df is not None and 'keywords' in papers_df.columns:\n",
    "    keyword_list = papers_df['keywords'].dropna().str.split(';|,').explode().str.strip()\n",
    "    top_keywords = keyword_list.value_counts().head(20)\n",
    "    plt.figure(figsize=(10, 6))\n",
    "    sns.barplot(y=top_keywords.index, x=top_keywords.values, orient='h')\n",
    "    plt.title('Top 20 Most Common Keywords/Topics')\n",
    "    plt.xlabel('Number of Papers')\n",
    "    plt.ylabel('Keyword/Topic')\n",
    "    plt.show()\n",
    "    # Word cloud\n",
    "    text = ' '.join(keyword_list.dropna())\n",
    "    wordcloud = WordCloud(width=800, height=400, background_color='white').generate(text)\n",
    "    plt.figure(figsize=(12, 6))\n",
    "    plt.imshow(wordcloud, interpolation='bilinear')\n",
    "    plt.axis('off')\n",
    "    plt.title('Keyword/Topic Word Cloud')\n",
    "    plt.show()\n",
    "else:\n",
    "    print(\"Column 'keywords' not found in data.\")"
   ]
  }
 ],
 "metadata": {
  "kernelspec": {
   "display_name": ".venv",
   "language": "python",
   "name": "python3"
  },
  "language_info": {
   "codemirror_mode": {
    "name": "ipython",
    "version": 3
   },
   "file_extension": ".py",
   "mimetype": "text/x-python",
   "name": "python",
   "nbconvert_exporter": "python",
   "pygments_lexer": "ipython3",
   "version": "3.12.11"
  }
 },
 "nbformat": 4,
 "nbformat_minor": 5
}
